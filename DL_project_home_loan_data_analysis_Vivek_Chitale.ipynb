{
 "cells": [
  {
   "cell_type": "markdown",
   "id": "87cc435c-cb15-4691-b16d-1c7c3883fa23",
   "metadata": {},
   "source": [
    "# Deep Learning Project- Home Loan Data Analysis\n",
    "## Submitted by- Vivek Chitale"
   ]
  },
  {
   "cell_type": "markdown",
   "id": "d0cd630d-3d4d-499c-846f-1cdf595e056a",
   "metadata": {},
   "source": [
    "#### Problem Statement: \n",
    "\n",
    "For a safe and secure lending experience, it's important to analyze the past data. In this project, you have to build a deep learning model to predict the chance of default for future loans using the historical data. As you will see, this dataset is highly imbalanced and includes a lot of features that make this problem more challenging.\n",
    "\n",
    "Objective: Create a model that predicts whether or not an applicant will be able to repay a loan using the historical data\n",
    "\n",
    "Domain: Finance\n",
    "\n",
    "Analysis to be done: Perform data preprocessing and build a deep learning prediction model\n",
    "\n",
    "Steps to be done:\n",
    "\n",
    "1)      Load the dataset that is given to you\n",
    "\n",
    "2)      Check for null values in the dataset\n",
    "\n",
    "3)      Print the percentage of default to a payer of the dataset for the TARGET column\n",
    "\n",
    "4)      Balance the dataset if the data is imbalanced\n",
    "\n",
    "5)      Plot the balanced or imbalanced data\n",
    "\n",
    "6)      Encode the columns that is required for the model\n",
    "\n",
    "7)      Calculate Sensitivity as a metric\n",
    "8)      Calculate the area under the receiver operating characteristics curve"
   ]
  },
  {
   "cell_type": "code",
   "execution_count": 553,
   "id": "4de4acb0-6dcd-4f48-985d-6c05f32f6749",
   "metadata": {},
   "outputs": [],
   "source": [
    "#Importing libs\n",
    "import numpy as np\n",
    "import pandas as pd\n",
    "import matplotlib.pyplot as plt\n",
    "from sklearn.utils.class_weight import compute_class_weight\n",
    "import seaborn as sns\n",
    "from sklearn.preprocessing import OrdinalEncoder\n",
    "from sklearn.model_selection import train_test_split\n",
    "from sklearn.datasets import make_blobs\n",
    "from sklearn.metrics import confusion_matrix,ConfusionMatrixDisplay\n",
    "from sklearn.ensemble import RandomForestClassifier\n",
    "from sklearn.metrics import recall_score\n",
    "from sklearn.metrics import roc_curve\n",
    "from sklearn.metrics import roc_auc_score\n",
    "from sklearn.linear_model import LogisticRegression"
   ]
  },
  {
   "cell_type": "code",
   "execution_count": null,
   "id": "3a4e1b0d-a194-4484-82f4-57bc6a672274",
   "metadata": {},
   "outputs": [],
   "source": []
  },
  {
   "cell_type": "markdown",
   "id": "7efbb979-8134-4b6d-93d0-974468ede54f",
   "metadata": {},
   "source": [
    "### 1. Load the dataset that is given to you"
   ]
  },
  {
   "cell_type": "code",
   "execution_count": 467,
   "id": "bcd48133-e11a-4b53-8ad3-e0ff1e88143e",
   "metadata": {},
   "outputs": [],
   "source": [
    "#Loading the data from csv file\n",
    "df = pd.read_csv(\"House Loan Data Analysis_Dataset\\\\loan_data.csv\")"
   ]
  },
  {
   "cell_type": "code",
   "execution_count": 468,
   "id": "fbc069da-4107-42fc-a661-1387d1078529",
   "metadata": {},
   "outputs": [
    {
     "data": {
      "text/html": [
       "<div>\n",
       "<style scoped>\n",
       "    .dataframe tbody tr th:only-of-type {\n",
       "        vertical-align: middle;\n",
       "    }\n",
       "\n",
       "    .dataframe tbody tr th {\n",
       "        vertical-align: top;\n",
       "    }\n",
       "\n",
       "    .dataframe thead th {\n",
       "        text-align: right;\n",
       "    }\n",
       "</style>\n",
       "<table border=\"1\" class=\"dataframe\">\n",
       "  <thead>\n",
       "    <tr style=\"text-align: right;\">\n",
       "      <th></th>\n",
       "      <th>SK_ID_CURR</th>\n",
       "      <th>TARGET</th>\n",
       "      <th>NAME_CONTRACT_TYPE</th>\n",
       "      <th>CODE_GENDER</th>\n",
       "      <th>FLAG_OWN_CAR</th>\n",
       "      <th>FLAG_OWN_REALTY</th>\n",
       "      <th>CNT_CHILDREN</th>\n",
       "      <th>AMT_INCOME_TOTAL</th>\n",
       "      <th>AMT_CREDIT</th>\n",
       "      <th>AMT_ANNUITY</th>\n",
       "      <th>...</th>\n",
       "      <th>FLAG_DOCUMENT_18</th>\n",
       "      <th>FLAG_DOCUMENT_19</th>\n",
       "      <th>FLAG_DOCUMENT_20</th>\n",
       "      <th>FLAG_DOCUMENT_21</th>\n",
       "      <th>AMT_REQ_CREDIT_BUREAU_HOUR</th>\n",
       "      <th>AMT_REQ_CREDIT_BUREAU_DAY</th>\n",
       "      <th>AMT_REQ_CREDIT_BUREAU_WEEK</th>\n",
       "      <th>AMT_REQ_CREDIT_BUREAU_MON</th>\n",
       "      <th>AMT_REQ_CREDIT_BUREAU_QRT</th>\n",
       "      <th>AMT_REQ_CREDIT_BUREAU_YEAR</th>\n",
       "    </tr>\n",
       "  </thead>\n",
       "  <tbody>\n",
       "    <tr>\n",
       "      <th>0</th>\n",
       "      <td>100002</td>\n",
       "      <td>1</td>\n",
       "      <td>Cash loans</td>\n",
       "      <td>M</td>\n",
       "      <td>N</td>\n",
       "      <td>Y</td>\n",
       "      <td>0</td>\n",
       "      <td>202500.0</td>\n",
       "      <td>406597.5</td>\n",
       "      <td>24700.5</td>\n",
       "      <td>...</td>\n",
       "      <td>0</td>\n",
       "      <td>0</td>\n",
       "      <td>0</td>\n",
       "      <td>0</td>\n",
       "      <td>0.0</td>\n",
       "      <td>0.0</td>\n",
       "      <td>0.0</td>\n",
       "      <td>0.0</td>\n",
       "      <td>0.0</td>\n",
       "      <td>1.0</td>\n",
       "    </tr>\n",
       "    <tr>\n",
       "      <th>1</th>\n",
       "      <td>100003</td>\n",
       "      <td>0</td>\n",
       "      <td>Cash loans</td>\n",
       "      <td>F</td>\n",
       "      <td>N</td>\n",
       "      <td>N</td>\n",
       "      <td>0</td>\n",
       "      <td>270000.0</td>\n",
       "      <td>1293502.5</td>\n",
       "      <td>35698.5</td>\n",
       "      <td>...</td>\n",
       "      <td>0</td>\n",
       "      <td>0</td>\n",
       "      <td>0</td>\n",
       "      <td>0</td>\n",
       "      <td>0.0</td>\n",
       "      <td>0.0</td>\n",
       "      <td>0.0</td>\n",
       "      <td>0.0</td>\n",
       "      <td>0.0</td>\n",
       "      <td>0.0</td>\n",
       "    </tr>\n",
       "    <tr>\n",
       "      <th>2</th>\n",
       "      <td>100004</td>\n",
       "      <td>0</td>\n",
       "      <td>Revolving loans</td>\n",
       "      <td>M</td>\n",
       "      <td>Y</td>\n",
       "      <td>Y</td>\n",
       "      <td>0</td>\n",
       "      <td>67500.0</td>\n",
       "      <td>135000.0</td>\n",
       "      <td>6750.0</td>\n",
       "      <td>...</td>\n",
       "      <td>0</td>\n",
       "      <td>0</td>\n",
       "      <td>0</td>\n",
       "      <td>0</td>\n",
       "      <td>0.0</td>\n",
       "      <td>0.0</td>\n",
       "      <td>0.0</td>\n",
       "      <td>0.0</td>\n",
       "      <td>0.0</td>\n",
       "      <td>0.0</td>\n",
       "    </tr>\n",
       "    <tr>\n",
       "      <th>3</th>\n",
       "      <td>100006</td>\n",
       "      <td>0</td>\n",
       "      <td>Cash loans</td>\n",
       "      <td>F</td>\n",
       "      <td>N</td>\n",
       "      <td>Y</td>\n",
       "      <td>0</td>\n",
       "      <td>135000.0</td>\n",
       "      <td>312682.5</td>\n",
       "      <td>29686.5</td>\n",
       "      <td>...</td>\n",
       "      <td>0</td>\n",
       "      <td>0</td>\n",
       "      <td>0</td>\n",
       "      <td>0</td>\n",
       "      <td>NaN</td>\n",
       "      <td>NaN</td>\n",
       "      <td>NaN</td>\n",
       "      <td>NaN</td>\n",
       "      <td>NaN</td>\n",
       "      <td>NaN</td>\n",
       "    </tr>\n",
       "    <tr>\n",
       "      <th>4</th>\n",
       "      <td>100007</td>\n",
       "      <td>0</td>\n",
       "      <td>Cash loans</td>\n",
       "      <td>M</td>\n",
       "      <td>N</td>\n",
       "      <td>Y</td>\n",
       "      <td>0</td>\n",
       "      <td>121500.0</td>\n",
       "      <td>513000.0</td>\n",
       "      <td>21865.5</td>\n",
       "      <td>...</td>\n",
       "      <td>0</td>\n",
       "      <td>0</td>\n",
       "      <td>0</td>\n",
       "      <td>0</td>\n",
       "      <td>0.0</td>\n",
       "      <td>0.0</td>\n",
       "      <td>0.0</td>\n",
       "      <td>0.0</td>\n",
       "      <td>0.0</td>\n",
       "      <td>0.0</td>\n",
       "    </tr>\n",
       "  </tbody>\n",
       "</table>\n",
       "<p>5 rows × 122 columns</p>\n",
       "</div>"
      ],
      "text/plain": [
       "   SK_ID_CURR  TARGET NAME_CONTRACT_TYPE CODE_GENDER FLAG_OWN_CAR  \\\n",
       "0      100002       1         Cash loans           M            N   \n",
       "1      100003       0         Cash loans           F            N   \n",
       "2      100004       0    Revolving loans           M            Y   \n",
       "3      100006       0         Cash loans           F            N   \n",
       "4      100007       0         Cash loans           M            N   \n",
       "\n",
       "  FLAG_OWN_REALTY  CNT_CHILDREN  AMT_INCOME_TOTAL  AMT_CREDIT  AMT_ANNUITY  \\\n",
       "0               Y             0          202500.0    406597.5      24700.5   \n",
       "1               N             0          270000.0   1293502.5      35698.5   \n",
       "2               Y             0           67500.0    135000.0       6750.0   \n",
       "3               Y             0          135000.0    312682.5      29686.5   \n",
       "4               Y             0          121500.0    513000.0      21865.5   \n",
       "\n",
       "   ...  FLAG_DOCUMENT_18 FLAG_DOCUMENT_19 FLAG_DOCUMENT_20 FLAG_DOCUMENT_21  \\\n",
       "0  ...                 0                0                0                0   \n",
       "1  ...                 0                0                0                0   \n",
       "2  ...                 0                0                0                0   \n",
       "3  ...                 0                0                0                0   \n",
       "4  ...                 0                0                0                0   \n",
       "\n",
       "  AMT_REQ_CREDIT_BUREAU_HOUR AMT_REQ_CREDIT_BUREAU_DAY  \\\n",
       "0                        0.0                       0.0   \n",
       "1                        0.0                       0.0   \n",
       "2                        0.0                       0.0   \n",
       "3                        NaN                       NaN   \n",
       "4                        0.0                       0.0   \n",
       "\n",
       "   AMT_REQ_CREDIT_BUREAU_WEEK  AMT_REQ_CREDIT_BUREAU_MON  \\\n",
       "0                         0.0                        0.0   \n",
       "1                         0.0                        0.0   \n",
       "2                         0.0                        0.0   \n",
       "3                         NaN                        NaN   \n",
       "4                         0.0                        0.0   \n",
       "\n",
       "   AMT_REQ_CREDIT_BUREAU_QRT  AMT_REQ_CREDIT_BUREAU_YEAR  \n",
       "0                        0.0                         1.0  \n",
       "1                        0.0                         0.0  \n",
       "2                        0.0                         0.0  \n",
       "3                        NaN                         NaN  \n",
       "4                        0.0                         0.0  \n",
       "\n",
       "[5 rows x 122 columns]"
      ]
     },
     "execution_count": 468,
     "metadata": {},
     "output_type": "execute_result"
    }
   ],
   "source": [
    "#Show data frame\n",
    "df.head()"
   ]
  },
  {
   "cell_type": "code",
   "execution_count": 469,
   "id": "8b0b1166-aa6f-466f-893d-58d4186880fc",
   "metadata": {},
   "outputs": [
    {
     "data": {
      "text/plain": [
       "['SK_ID_CURR',\n",
       " 'TARGET',\n",
       " 'NAME_CONTRACT_TYPE',\n",
       " 'CODE_GENDER',\n",
       " 'FLAG_OWN_CAR',\n",
       " 'FLAG_OWN_REALTY',\n",
       " 'CNT_CHILDREN',\n",
       " 'AMT_INCOME_TOTAL',\n",
       " 'AMT_CREDIT',\n",
       " 'AMT_ANNUITY',\n",
       " 'AMT_GOODS_PRICE',\n",
       " 'NAME_TYPE_SUITE',\n",
       " 'NAME_INCOME_TYPE',\n",
       " 'NAME_EDUCATION_TYPE',\n",
       " 'NAME_FAMILY_STATUS',\n",
       " 'NAME_HOUSING_TYPE',\n",
       " 'REGION_POPULATION_RELATIVE',\n",
       " 'DAYS_BIRTH',\n",
       " 'DAYS_EMPLOYED',\n",
       " 'DAYS_REGISTRATION',\n",
       " 'DAYS_ID_PUBLISH',\n",
       " 'OWN_CAR_AGE',\n",
       " 'FLAG_MOBIL',\n",
       " 'FLAG_EMP_PHONE',\n",
       " 'FLAG_WORK_PHONE',\n",
       " 'FLAG_CONT_MOBILE',\n",
       " 'FLAG_PHONE',\n",
       " 'FLAG_EMAIL',\n",
       " 'OCCUPATION_TYPE',\n",
       " 'CNT_FAM_MEMBERS',\n",
       " 'REGION_RATING_CLIENT',\n",
       " 'REGION_RATING_CLIENT_W_CITY',\n",
       " 'WEEKDAY_APPR_PROCESS_START',\n",
       " 'HOUR_APPR_PROCESS_START',\n",
       " 'REG_REGION_NOT_LIVE_REGION',\n",
       " 'REG_REGION_NOT_WORK_REGION',\n",
       " 'LIVE_REGION_NOT_WORK_REGION',\n",
       " 'REG_CITY_NOT_LIVE_CITY',\n",
       " 'REG_CITY_NOT_WORK_CITY',\n",
       " 'LIVE_CITY_NOT_WORK_CITY',\n",
       " 'ORGANIZATION_TYPE',\n",
       " 'EXT_SOURCE_1',\n",
       " 'EXT_SOURCE_2',\n",
       " 'EXT_SOURCE_3',\n",
       " 'APARTMENTS_AVG',\n",
       " 'BASEMENTAREA_AVG',\n",
       " 'YEARS_BEGINEXPLUATATION_AVG',\n",
       " 'YEARS_BUILD_AVG',\n",
       " 'COMMONAREA_AVG',\n",
       " 'ELEVATORS_AVG',\n",
       " 'ENTRANCES_AVG',\n",
       " 'FLOORSMAX_AVG',\n",
       " 'FLOORSMIN_AVG',\n",
       " 'LANDAREA_AVG',\n",
       " 'LIVINGAPARTMENTS_AVG',\n",
       " 'LIVINGAREA_AVG',\n",
       " 'NONLIVINGAPARTMENTS_AVG',\n",
       " 'NONLIVINGAREA_AVG',\n",
       " 'APARTMENTS_MODE',\n",
       " 'BASEMENTAREA_MODE',\n",
       " 'YEARS_BEGINEXPLUATATION_MODE',\n",
       " 'YEARS_BUILD_MODE',\n",
       " 'COMMONAREA_MODE',\n",
       " 'ELEVATORS_MODE',\n",
       " 'ENTRANCES_MODE',\n",
       " 'FLOORSMAX_MODE',\n",
       " 'FLOORSMIN_MODE',\n",
       " 'LANDAREA_MODE',\n",
       " 'LIVINGAPARTMENTS_MODE',\n",
       " 'LIVINGAREA_MODE',\n",
       " 'NONLIVINGAPARTMENTS_MODE',\n",
       " 'NONLIVINGAREA_MODE',\n",
       " 'APARTMENTS_MEDI',\n",
       " 'BASEMENTAREA_MEDI',\n",
       " 'YEARS_BEGINEXPLUATATION_MEDI',\n",
       " 'YEARS_BUILD_MEDI',\n",
       " 'COMMONAREA_MEDI',\n",
       " 'ELEVATORS_MEDI',\n",
       " 'ENTRANCES_MEDI',\n",
       " 'FLOORSMAX_MEDI',\n",
       " 'FLOORSMIN_MEDI',\n",
       " 'LANDAREA_MEDI',\n",
       " 'LIVINGAPARTMENTS_MEDI',\n",
       " 'LIVINGAREA_MEDI',\n",
       " 'NONLIVINGAPARTMENTS_MEDI',\n",
       " 'NONLIVINGAREA_MEDI',\n",
       " 'FONDKAPREMONT_MODE',\n",
       " 'HOUSETYPE_MODE',\n",
       " 'TOTALAREA_MODE',\n",
       " 'WALLSMATERIAL_MODE',\n",
       " 'EMERGENCYSTATE_MODE',\n",
       " 'OBS_30_CNT_SOCIAL_CIRCLE',\n",
       " 'DEF_30_CNT_SOCIAL_CIRCLE',\n",
       " 'OBS_60_CNT_SOCIAL_CIRCLE',\n",
       " 'DEF_60_CNT_SOCIAL_CIRCLE',\n",
       " 'DAYS_LAST_PHONE_CHANGE',\n",
       " 'FLAG_DOCUMENT_2',\n",
       " 'FLAG_DOCUMENT_3',\n",
       " 'FLAG_DOCUMENT_4',\n",
       " 'FLAG_DOCUMENT_5',\n",
       " 'FLAG_DOCUMENT_6',\n",
       " 'FLAG_DOCUMENT_7',\n",
       " 'FLAG_DOCUMENT_8',\n",
       " 'FLAG_DOCUMENT_9',\n",
       " 'FLAG_DOCUMENT_10',\n",
       " 'FLAG_DOCUMENT_11',\n",
       " 'FLAG_DOCUMENT_12',\n",
       " 'FLAG_DOCUMENT_13',\n",
       " 'FLAG_DOCUMENT_14',\n",
       " 'FLAG_DOCUMENT_15',\n",
       " 'FLAG_DOCUMENT_16',\n",
       " 'FLAG_DOCUMENT_17',\n",
       " 'FLAG_DOCUMENT_18',\n",
       " 'FLAG_DOCUMENT_19',\n",
       " 'FLAG_DOCUMENT_20',\n",
       " 'FLAG_DOCUMENT_21',\n",
       " 'AMT_REQ_CREDIT_BUREAU_HOUR',\n",
       " 'AMT_REQ_CREDIT_BUREAU_DAY',\n",
       " 'AMT_REQ_CREDIT_BUREAU_WEEK',\n",
       " 'AMT_REQ_CREDIT_BUREAU_MON',\n",
       " 'AMT_REQ_CREDIT_BUREAU_QRT',\n",
       " 'AMT_REQ_CREDIT_BUREAU_YEAR']"
      ]
     },
     "execution_count": 469,
     "metadata": {},
     "output_type": "execute_result"
    }
   ],
   "source": [
    "# Get the column names\n",
    "df.columns.to_list()"
   ]
  },
  {
   "cell_type": "code",
   "execution_count": null,
   "id": "85e12709-407f-4c75-baa8-a8d21e78329b",
   "metadata": {},
   "outputs": [],
   "source": []
  },
  {
   "cell_type": "markdown",
   "id": "70877014-2a6e-4ed4-ad1a-b53a85495bb8",
   "metadata": {},
   "source": [
    " ### 2. Check for null values in the dataset"
   ]
  },
  {
   "cell_type": "code",
   "execution_count": 471,
   "id": "781f61bd-dda6-415d-a191-35640e40eca7",
   "metadata": {},
   "outputs": [
    {
     "data": {
      "text/plain": [
       "SK_ID_CURR                        0\n",
       "TARGET                            0\n",
       "NAME_CONTRACT_TYPE                0\n",
       "CODE_GENDER                       0\n",
       "FLAG_OWN_CAR                      0\n",
       "                              ...  \n",
       "AMT_REQ_CREDIT_BUREAU_DAY     41519\n",
       "AMT_REQ_CREDIT_BUREAU_WEEK    41519\n",
       "AMT_REQ_CREDIT_BUREAU_MON     41519\n",
       "AMT_REQ_CREDIT_BUREAU_QRT     41519\n",
       "AMT_REQ_CREDIT_BUREAU_YEAR    41519\n",
       "Length: 122, dtype: int64"
      ]
     },
     "execution_count": 471,
     "metadata": {},
     "output_type": "execute_result"
    }
   ],
   "source": [
    "#check the missing values (null data)\n",
    "df.isna().sum()"
   ]
  },
  {
   "cell_type": "code",
   "execution_count": 472,
   "id": "cb492f7d-8120-4055-ab17-0dd608941f9b",
   "metadata": {},
   "outputs": [
    {
     "name": "stdout",
     "output_type": "stream",
     "text": [
      "('AMT_ANNUITY', 12)\n",
      "('AMT_GOODS_PRICE', 278)\n",
      "('NAME_TYPE_SUITE', 1292)\n",
      "('OWN_CAR_AGE', 202929)\n",
      "('OCCUPATION_TYPE', 96391)\n",
      "('CNT_FAM_MEMBERS', 2)\n",
      "('EXT_SOURCE_1', 173378)\n",
      "('EXT_SOURCE_2', 660)\n",
      "('EXT_SOURCE_3', 60965)\n",
      "('APARTMENTS_AVG', 156061)\n",
      "('BASEMENTAREA_AVG', 179943)\n",
      "('YEARS_BEGINEXPLUATATION_AVG', 150007)\n",
      "('YEARS_BUILD_AVG', 204488)\n",
      "('COMMONAREA_AVG', 214865)\n",
      "('ELEVATORS_AVG', 163891)\n",
      "('ENTRANCES_AVG', 154828)\n",
      "('FLOORSMAX_AVG', 153020)\n",
      "('FLOORSMIN_AVG', 208642)\n",
      "('LANDAREA_AVG', 182590)\n",
      "('LIVINGAPARTMENTS_AVG', 210199)\n",
      "('LIVINGAREA_AVG', 154350)\n",
      "('NONLIVINGAPARTMENTS_AVG', 213514)\n",
      "('NONLIVINGAREA_AVG', 169682)\n",
      "('APARTMENTS_MODE', 156061)\n",
      "('BASEMENTAREA_MODE', 179943)\n",
      "('YEARS_BEGINEXPLUATATION_MODE', 150007)\n",
      "('YEARS_BUILD_MODE', 204488)\n",
      "('COMMONAREA_MODE', 214865)\n",
      "('ELEVATORS_MODE', 163891)\n",
      "('ENTRANCES_MODE', 154828)\n",
      "('FLOORSMAX_MODE', 153020)\n",
      "('FLOORSMIN_MODE', 208642)\n",
      "('LANDAREA_MODE', 182590)\n",
      "('LIVINGAPARTMENTS_MODE', 210199)\n",
      "('LIVINGAREA_MODE', 154350)\n",
      "('NONLIVINGAPARTMENTS_MODE', 213514)\n",
      "('NONLIVINGAREA_MODE', 169682)\n",
      "('APARTMENTS_MEDI', 156061)\n",
      "('BASEMENTAREA_MEDI', 179943)\n",
      "('YEARS_BEGINEXPLUATATION_MEDI', 150007)\n",
      "('YEARS_BUILD_MEDI', 204488)\n",
      "('COMMONAREA_MEDI', 214865)\n",
      "('ELEVATORS_MEDI', 163891)\n",
      "('ENTRANCES_MEDI', 154828)\n",
      "('FLOORSMAX_MEDI', 153020)\n",
      "('FLOORSMIN_MEDI', 208642)\n",
      "('LANDAREA_MEDI', 182590)\n",
      "('LIVINGAPARTMENTS_MEDI', 210199)\n",
      "('LIVINGAREA_MEDI', 154350)\n",
      "('NONLIVINGAPARTMENTS_MEDI', 213514)\n",
      "('NONLIVINGAREA_MEDI', 169682)\n",
      "('FONDKAPREMONT_MODE', 210295)\n",
      "('HOUSETYPE_MODE', 154297)\n",
      "('TOTALAREA_MODE', 148431)\n",
      "('WALLSMATERIAL_MODE', 156341)\n",
      "('EMERGENCYSTATE_MODE', 145755)\n",
      "('OBS_30_CNT_SOCIAL_CIRCLE', 1021)\n",
      "('DEF_30_CNT_SOCIAL_CIRCLE', 1021)\n",
      "('OBS_60_CNT_SOCIAL_CIRCLE', 1021)\n",
      "('DEF_60_CNT_SOCIAL_CIRCLE', 1021)\n",
      "('AMT_REQ_CREDIT_BUREAU_HOUR', 41519)\n",
      "('AMT_REQ_CREDIT_BUREAU_DAY', 41519)\n",
      "('AMT_REQ_CREDIT_BUREAU_WEEK', 41519)\n",
      "('AMT_REQ_CREDIT_BUREAU_MON', 41519)\n",
      "('AMT_REQ_CREDIT_BUREAU_QRT', 41519)\n",
      "('AMT_REQ_CREDIT_BUREAU_YEAR', 41519)\n"
     ]
    }
   ],
   "source": [
    "# There are null values, Print the null value count and name of the column\n",
    "nullvalues = df.isna().sum().tolist()\n",
    "colnames = df.columns.tolist()\n",
    "for each in zip(colnames, nullvalues):\n",
    "    if each[1] >1:\n",
    "        print(each)"
   ]
  },
  {
   "cell_type": "code",
   "execution_count": null,
   "id": "1d3502ef-7613-4734-b212-e6b683c9c16e",
   "metadata": {},
   "outputs": [],
   "source": []
  },
  {
   "cell_type": "markdown",
   "id": "580e85e1-d7fa-4f1c-87ed-7cc1f4cb9386",
   "metadata": {},
   "source": [
    "### 3. Print the percentage of default to a payer of the dataset for the TARGET column"
   ]
  },
  {
   "cell_type": "code",
   "execution_count": 474,
   "id": "1a4fc788-d682-4137-bd01-9bbeef7bbdd3",
   "metadata": {},
   "outputs": [
    {
     "name": "stdout",
     "output_type": "stream",
     "text": [
      "Number of loan defaulters=  282686\n",
      "Number of loan repaid payers=  24825\n",
      "Percentage of 'Loan Repaid' (TARGET = 1): 8.07%\n",
      "Percentage of 'Loan Defaulters' (TARGET = 0): 91.93%\n"
     ]
    }
   ],
   "source": [
    "# As per 'Data_Dictionary' file, \n",
    "# Description --> \"TARGET\" Column --> Whether the loan was repaid (1 for yes, 0 for no).\n",
    "# Loan_repaid = 1\n",
    "# Loan_defaulter = 0\n",
    "\n",
    "loan_repaid = (df.TARGET==1).sum()\n",
    "loan_defaulter = (df.TARGET==0).sum()\n",
    "print('Number of loan defaulters= ', defaulters)\n",
    "print('Number of loan repaid payers= ', payers)\n",
    "\n",
    "# Calculate percentage of default (TARGET = 0) and non-default (TARGET = 1)\n",
    "defaulter_percentage = df['TARGET'].value_counts(normalize=True) * 100\n",
    "\n",
    "# Print the percentages\n",
    "print(f\"Percentage of 'Loan Repaid' (TARGET = 1): {defaulter_percentage[1]:.2f}%\")\n",
    "print(f\"Percentage of 'Loan Defaulters' (TARGET = 0): {defaulter_percentage[0]:.2f}%\")"
   ]
  },
  {
   "cell_type": "code",
   "execution_count": null,
   "id": "4c4ddf85-59a3-4498-a3c4-100b7d53cf06",
   "metadata": {},
   "outputs": [],
   "source": []
  },
  {
   "cell_type": "markdown",
   "id": "b56211aa-6df4-44c2-8364-70d151a0faa6",
   "metadata": {},
   "source": [
    " ### 4. Balance the dataset if the data is imbalanced"
   ]
  },
  {
   "cell_type": "code",
   "execution_count": 476,
   "id": "120098a2-39ae-422b-a679-879501a5dc12",
   "metadata": {},
   "outputs": [
    {
     "data": {
      "image/png": "[encoded data removed]",
      "text/plain": [
       "<Figure size 600x400 with 1 Axes>"
      ]
     },
     "metadata": {},
     "output_type": "display_data"
    }
   ],
   "source": [
    "# Plot class distribution before balancing (in number)\n",
    "plt.figure(figsize=(6,4))\n",
    "sns.countplot(x=df['TARGET'])\n",
    "plt.title('Class Distribution (Before Balancing)')\n",
    "plt.xlabel('Loan Default (1 = No, 0 = Yes)')\n",
    "plt.ylabel('Count')\n",
    "plt.show()"
   ]
  },
  {
   "cell_type": "code",
   "execution_count": 477,
   "id": "24bad5c6-da4b-4bdb-a225-4344316288ac",
   "metadata": {},
   "outputs": [
    {
     "data": {
      "text/plain": [
       "<Axes: ylabel='count'>"
      ]
     },
     "execution_count": 477,
     "metadata": {},
     "output_type": "execute_result"
    },
    {
     "data": {
      "image/png": "[encoded data removed]",
      "text/plain": [
       "<Figure size 640x480 with 1 Axes>"
      ]
     },
     "metadata": {},
     "output_type": "display_data"
    }
   ],
   "source": [
    "# Plot class distribution before balancing (in %)\n",
    "df.TARGET.value_counts().plot(kind='pie',autopct='%1.1f%%')"
   ]
  },
  {
   "cell_type": "code",
   "execution_count": 478,
   "id": "9dfb92cc-62cf-4e14-aacf-e1f32f7919e7",
   "metadata": {},
   "outputs": [
    {
     "name": "stdout",
     "output_type": "stream",
     "text": [
      "TARGET\n",
      "False    24825\n",
      "True     24825\n",
      "Name: count, dtype: int64\n",
      "Payers- class 1: (24825, 122)\n",
      "Defaulters- class 0: (24825, 122)\n"
     ]
    }
   ],
   "source": [
    "# random under sampling \n",
    "shuffled_data = df.sample(frac=1,random_state=3)\n",
    "loan_repaid = shuffled_data.loc[shuffled_data['TARGET']==1]\n",
    "loan_defaulters = shuffled_data.loc[shuffled_data['TARGET']==0].sample(n=24825,random_state=69)\n",
    "\n",
    "normalised_home_loan = pd.concat([loan_repaid, loan_defaulters])\n",
    "print((normalised_home_loan['TARGET']==0).value_counts())\n",
    "print('Payers- class 1:', loan_repaid.shape)\n",
    "print('Defaulters- class 0:', loan_defaulters.shape)"
   ]
  },
  {
   "cell_type": "code",
   "execution_count": null,
   "id": "8acedf9f-9e56-4527-83da-9391ca5fe98a",
   "metadata": {},
   "outputs": [],
   "source": []
  },
  {
   "cell_type": "markdown",
   "id": "65dceb07-fcaf-4349-bc4e-fc5b9a6cb115",
   "metadata": {},
   "source": [
    "### 5. Plot the balanced or imbalanced data"
   ]
  },
  {
   "cell_type": "code",
   "execution_count": 485,
   "id": "4b13f88b-1487-4278-af97-2b5ac2b7d207",
   "metadata": {},
   "outputs": [
    {
     "data": {
      "image/png": "[encoded data removed]",
      "text/plain": [
       "<Figure size 600x400 with 1 Axes>"
      ]
     },
     "metadata": {},
     "output_type": "display_data"
    }
   ],
   "source": [
    "# Plot class distribution before balancing (in number)\n",
    "plt.figure(figsize=(6,4))\n",
    "sns.countplot(x=normalised_home_loan['TARGET'])\n",
    "plt.title('Class Distribution (After Balancing)')\n",
    "plt.xlabel('Loan Repay (1 = yes, 0 = No)')\n",
    "plt.ylabel('Count')\n",
    "plt.show()"
   ]
  },
  {
   "cell_type": "code",
   "execution_count": 487,
   "id": "62fd2a4b-d74a-4e2b-88c0-73cb283a3d7b",
   "metadata": {},
   "outputs": [
    {
     "data": {
      "text/plain": [
       "<Axes: ylabel='count'>"
      ]
     },
     "execution_count": 487,
     "metadata": {},
     "output_type": "execute_result"
    },
    {
     "data": {
      "image/png": "[encoded data removed]",
      "text/plain": [
       "<Figure size 640x480 with 1 Axes>"
      ]
     },
     "metadata": {},
     "output_type": "display_data"
    }
   ],
   "source": [
    "# Plot class distribution after balancing (in %)\n",
    "normalised_home_loan.TARGET.value_counts().plot(kind='pie',autopct=\"%1.2f%%\")"
   ]
  },
  {
   "cell_type": "code",
   "execution_count": 489,
   "id": "dcd58e1f-de0e-4537-9d12-c0b56c43c751",
   "metadata": {},
   "outputs": [
    {
     "name": "stdout",
     "output_type": "stream",
     "text": [
      "<class 'pandas.core.frame.DataFrame'>\n",
      "Index: 49650 entries, 207339 to 121862\n",
      "Columns: 122 entries, SK_ID_CURR to AMT_REQ_CREDIT_BUREAU_YEAR\n",
      "dtypes: float64(65), int64(41), object(16)\n",
      "memory usage: 46.6+ MB\n"
     ]
    }
   ],
   "source": [
    "# get normalized data info\n",
    "normalised_home_loan.info()"
   ]
  },
  {
   "cell_type": "code",
   "execution_count": 491,
   "id": "9e6653f8-9f66-4c45-97fb-f3ce9eb0fbd5",
   "metadata": {},
   "outputs": [
    {
     "data": {
      "text/plain": [
       "SK_ID_CURR                       0\n",
       "TARGET                           0\n",
       "NAME_CONTRACT_TYPE               0\n",
       "CODE_GENDER                      0\n",
       "FLAG_OWN_CAR                     0\n",
       "                              ... \n",
       "AMT_REQ_CREDIT_BUREAU_DAY     7648\n",
       "AMT_REQ_CREDIT_BUREAU_WEEK    7648\n",
       "AMT_REQ_CREDIT_BUREAU_MON     7648\n",
       "AMT_REQ_CREDIT_BUREAU_QRT     7648\n",
       "AMT_REQ_CREDIT_BUREAU_YEAR    7648\n",
       "Length: 122, dtype: int64"
      ]
     },
     "execution_count": 491,
     "metadata": {},
     "output_type": "execute_result"
    }
   ],
   "source": [
    "#check null value and count\n",
    "normalised_home_loan.isnull().sum()"
   ]
  },
  {
   "cell_type": "code",
   "execution_count": 493,
   "id": "db70f4c1-e474-43dc-ab33-d66ab8557089",
   "metadata": {},
   "outputs": [
    {
     "name": "stdout",
     "output_type": "stream",
     "text": [
      "AMT_REQ_CREDIT_BUREAU_DAY [ 0. nan  1.  2.  4.  3.  9.]\n",
      "AMT_REQ_CREDIT_BUREAU_WEEK [ 0. nan  1.  2.  4.  3.  5.  6.]\n",
      "AMT_REQ_CREDIT_BUREAU_MON [ 0. nan  1.  3.  5.  9.  2.  6.  8.  4. 11. 12.  7. 13. 10. 17. 15. 14.\n",
      " 16. 18. 27.]\n",
      "AMT_REQ_CREDIT_BUREAU_QRT [ 0. nan  2.  3.  1.  4.  5.  6. 19.  7.]\n",
      "AMT_REQ_CREDIT_BUREAU_YEAR [ 3.  0. nan  1.  5.  4.  2.  6.  7.  8.  9. 10. 14. 13. 12. 11. 22. 16.\n",
      " 23. 17.]\n"
     ]
    }
   ],
   "source": [
    "#print unique null value total where present \n",
    "print('AMT_REQ_CREDIT_BUREAU_DAY', pd.unique(normalised_home_loan.AMT_REQ_CREDIT_BUREAU_DAY)) \n",
    "print('AMT_REQ_CREDIT_BUREAU_WEEK', pd.unique(normalised_home_loan.AMT_REQ_CREDIT_BUREAU_WEEK))\n",
    "print('AMT_REQ_CREDIT_BUREAU_MON', pd.unique(normalised_home_loan.AMT_REQ_CREDIT_BUREAU_MON))\n",
    "print('AMT_REQ_CREDIT_BUREAU_QRT', pd.unique(normalised_home_loan.AMT_REQ_CREDIT_BUREAU_QRT))\n",
    "print('AMT_REQ_CREDIT_BUREAU_YEAR', pd.unique(normalised_home_loan.AMT_REQ_CREDIT_BUREAU_YEAR))"
   ]
  },
  {
   "cell_type": "code",
   "execution_count": 494,
   "id": "beb488ba-e343-497d-9295-991f96432daa",
   "metadata": {},
   "outputs": [
    {
     "data": {
      "text/html": [
       "<div>\n",
       "<style scoped>\n",
       "    .dataframe tbody tr th:only-of-type {\n",
       "        vertical-align: middle;\n",
       "    }\n",
       "\n",
       "    .dataframe tbody tr th {\n",
       "        vertical-align: top;\n",
       "    }\n",
       "\n",
       "    .dataframe thead th {\n",
       "        text-align: right;\n",
       "    }\n",
       "</style>\n",
       "<table border=\"1\" class=\"dataframe\">\n",
       "  <thead>\n",
       "    <tr style=\"text-align: right;\">\n",
       "      <th></th>\n",
       "      <th>SK_ID_CURR</th>\n",
       "      <th>TARGET</th>\n",
       "      <th>NAME_CONTRACT_TYPE</th>\n",
       "      <th>CODE_GENDER</th>\n",
       "      <th>FLAG_OWN_CAR</th>\n",
       "      <th>FLAG_OWN_REALTY</th>\n",
       "      <th>CNT_CHILDREN</th>\n",
       "      <th>AMT_INCOME_TOTAL</th>\n",
       "      <th>AMT_CREDIT</th>\n",
       "      <th>AMT_ANNUITY</th>\n",
       "      <th>...</th>\n",
       "      <th>FLAG_DOCUMENT_18</th>\n",
       "      <th>FLAG_DOCUMENT_19</th>\n",
       "      <th>FLAG_DOCUMENT_20</th>\n",
       "      <th>FLAG_DOCUMENT_21</th>\n",
       "      <th>AMT_REQ_CREDIT_BUREAU_HOUR</th>\n",
       "      <th>AMT_REQ_CREDIT_BUREAU_DAY</th>\n",
       "      <th>AMT_REQ_CREDIT_BUREAU_WEEK</th>\n",
       "      <th>AMT_REQ_CREDIT_BUREAU_MON</th>\n",
       "      <th>AMT_REQ_CREDIT_BUREAU_QRT</th>\n",
       "      <th>AMT_REQ_CREDIT_BUREAU_YEAR</th>\n",
       "    </tr>\n",
       "  </thead>\n",
       "  <tbody>\n",
       "    <tr>\n",
       "      <th>279124</th>\n",
       "      <td>423360</td>\n",
       "      <td>1</td>\n",
       "      <td>Cash loans</td>\n",
       "      <td>M</td>\n",
       "      <td>Y</td>\n",
       "      <td>N</td>\n",
       "      <td>1</td>\n",
       "      <td>157500.0</td>\n",
       "      <td>1125000.0</td>\n",
       "      <td>33025.5</td>\n",
       "      <td>...</td>\n",
       "      <td>0</td>\n",
       "      <td>0</td>\n",
       "      <td>0</td>\n",
       "      <td>0</td>\n",
       "      <td>0.0</td>\n",
       "      <td>0.0</td>\n",
       "      <td>0.0</td>\n",
       "      <td>0.0</td>\n",
       "      <td>0.0</td>\n",
       "      <td>1.0</td>\n",
       "    </tr>\n",
       "    <tr>\n",
       "      <th>216116</th>\n",
       "      <td>350411</td>\n",
       "      <td>1</td>\n",
       "      <td>Cash loans</td>\n",
       "      <td>M</td>\n",
       "      <td>Y</td>\n",
       "      <td>N</td>\n",
       "      <td>0</td>\n",
       "      <td>112500.0</td>\n",
       "      <td>225000.0</td>\n",
       "      <td>25447.5</td>\n",
       "      <td>...</td>\n",
       "      <td>0</td>\n",
       "      <td>0</td>\n",
       "      <td>0</td>\n",
       "      <td>0</td>\n",
       "      <td>0.0</td>\n",
       "      <td>0.0</td>\n",
       "      <td>1.0</td>\n",
       "      <td>1.0</td>\n",
       "      <td>0.0</td>\n",
       "      <td>1.0</td>\n",
       "    </tr>\n",
       "    <tr>\n",
       "      <th>133687</th>\n",
       "      <td>255050</td>\n",
       "      <td>1</td>\n",
       "      <td>Cash loans</td>\n",
       "      <td>M</td>\n",
       "      <td>Y</td>\n",
       "      <td>N</td>\n",
       "      <td>1</td>\n",
       "      <td>337500.0</td>\n",
       "      <td>704844.0</td>\n",
       "      <td>26977.5</td>\n",
       "      <td>...</td>\n",
       "      <td>0</td>\n",
       "      <td>0</td>\n",
       "      <td>0</td>\n",
       "      <td>0</td>\n",
       "      <td>0.0</td>\n",
       "      <td>0.0</td>\n",
       "      <td>0.0</td>\n",
       "      <td>0.0</td>\n",
       "      <td>2.0</td>\n",
       "      <td>2.0</td>\n",
       "    </tr>\n",
       "    <tr>\n",
       "      <th>4159</th>\n",
       "      <td>104863</td>\n",
       "      <td>1</td>\n",
       "      <td>Cash loans</td>\n",
       "      <td>M</td>\n",
       "      <td>Y</td>\n",
       "      <td>N</td>\n",
       "      <td>0</td>\n",
       "      <td>265500.0</td>\n",
       "      <td>521280.0</td>\n",
       "      <td>28408.5</td>\n",
       "      <td>...</td>\n",
       "      <td>0</td>\n",
       "      <td>0</td>\n",
       "      <td>0</td>\n",
       "      <td>0</td>\n",
       "      <td>0.0</td>\n",
       "      <td>0.0</td>\n",
       "      <td>0.0</td>\n",
       "      <td>0.0</td>\n",
       "      <td>0.0</td>\n",
       "      <td>2.0</td>\n",
       "    </tr>\n",
       "    <tr>\n",
       "      <th>208602</th>\n",
       "      <td>341779</td>\n",
       "      <td>1</td>\n",
       "      <td>Cash loans</td>\n",
       "      <td>F</td>\n",
       "      <td>Y</td>\n",
       "      <td>Y</td>\n",
       "      <td>1</td>\n",
       "      <td>247500.0</td>\n",
       "      <td>544491.0</td>\n",
       "      <td>17694.0</td>\n",
       "      <td>...</td>\n",
       "      <td>0</td>\n",
       "      <td>0</td>\n",
       "      <td>0</td>\n",
       "      <td>0</td>\n",
       "      <td>0.0</td>\n",
       "      <td>0.0</td>\n",
       "      <td>0.0</td>\n",
       "      <td>0.0</td>\n",
       "      <td>0.0</td>\n",
       "      <td>2.0</td>\n",
       "    </tr>\n",
       "    <tr>\n",
       "      <th>...</th>\n",
       "      <td>...</td>\n",
       "      <td>...</td>\n",
       "      <td>...</td>\n",
       "      <td>...</td>\n",
       "      <td>...</td>\n",
       "      <td>...</td>\n",
       "      <td>...</td>\n",
       "      <td>...</td>\n",
       "      <td>...</td>\n",
       "      <td>...</td>\n",
       "      <td>...</td>\n",
       "      <td>...</td>\n",
       "      <td>...</td>\n",
       "      <td>...</td>\n",
       "      <td>...</td>\n",
       "      <td>...</td>\n",
       "      <td>...</td>\n",
       "      <td>...</td>\n",
       "      <td>...</td>\n",
       "      <td>...</td>\n",
       "      <td>...</td>\n",
       "    </tr>\n",
       "    <tr>\n",
       "      <th>108677</th>\n",
       "      <td>226053</td>\n",
       "      <td>0</td>\n",
       "      <td>Cash loans</td>\n",
       "      <td>M</td>\n",
       "      <td>Y</td>\n",
       "      <td>Y</td>\n",
       "      <td>0</td>\n",
       "      <td>135000.0</td>\n",
       "      <td>679500.0</td>\n",
       "      <td>36333.0</td>\n",
       "      <td>...</td>\n",
       "      <td>0</td>\n",
       "      <td>0</td>\n",
       "      <td>0</td>\n",
       "      <td>0</td>\n",
       "      <td>0.0</td>\n",
       "      <td>0.0</td>\n",
       "      <td>0.0</td>\n",
       "      <td>0.0</td>\n",
       "      <td>0.0</td>\n",
       "      <td>0.0</td>\n",
       "    </tr>\n",
       "    <tr>\n",
       "      <th>258603</th>\n",
       "      <td>399273</td>\n",
       "      <td>0</td>\n",
       "      <td>Revolving loans</td>\n",
       "      <td>M</td>\n",
       "      <td>Y</td>\n",
       "      <td>Y</td>\n",
       "      <td>1</td>\n",
       "      <td>450000.0</td>\n",
       "      <td>180000.0</td>\n",
       "      <td>9000.0</td>\n",
       "      <td>...</td>\n",
       "      <td>0</td>\n",
       "      <td>0</td>\n",
       "      <td>0</td>\n",
       "      <td>0</td>\n",
       "      <td>0.0</td>\n",
       "      <td>0.0</td>\n",
       "      <td>0.0</td>\n",
       "      <td>0.0</td>\n",
       "      <td>0.0</td>\n",
       "      <td>1.0</td>\n",
       "    </tr>\n",
       "    <tr>\n",
       "      <th>51880</th>\n",
       "      <td>160079</td>\n",
       "      <td>0</td>\n",
       "      <td>Cash loans</td>\n",
       "      <td>M</td>\n",
       "      <td>Y</td>\n",
       "      <td>Y</td>\n",
       "      <td>0</td>\n",
       "      <td>202500.0</td>\n",
       "      <td>750649.5</td>\n",
       "      <td>53514.0</td>\n",
       "      <td>...</td>\n",
       "      <td>0</td>\n",
       "      <td>0</td>\n",
       "      <td>0</td>\n",
       "      <td>0</td>\n",
       "      <td>0.0</td>\n",
       "      <td>0.0</td>\n",
       "      <td>0.0</td>\n",
       "      <td>0.0</td>\n",
       "      <td>1.0</td>\n",
       "      <td>3.0</td>\n",
       "    </tr>\n",
       "    <tr>\n",
       "      <th>282820</th>\n",
       "      <td>427561</td>\n",
       "      <td>0</td>\n",
       "      <td>Cash loans</td>\n",
       "      <td>F</td>\n",
       "      <td>Y</td>\n",
       "      <td>N</td>\n",
       "      <td>0</td>\n",
       "      <td>270000.0</td>\n",
       "      <td>1800000.0</td>\n",
       "      <td>62568.0</td>\n",
       "      <td>...</td>\n",
       "      <td>0</td>\n",
       "      <td>0</td>\n",
       "      <td>0</td>\n",
       "      <td>0</td>\n",
       "      <td>0.0</td>\n",
       "      <td>0.0</td>\n",
       "      <td>0.0</td>\n",
       "      <td>1.0</td>\n",
       "      <td>0.0</td>\n",
       "      <td>1.0</td>\n",
       "    </tr>\n",
       "    <tr>\n",
       "      <th>207101</th>\n",
       "      <td>340051</td>\n",
       "      <td>0</td>\n",
       "      <td>Revolving loans</td>\n",
       "      <td>F</td>\n",
       "      <td>Y</td>\n",
       "      <td>Y</td>\n",
       "      <td>0</td>\n",
       "      <td>103500.0</td>\n",
       "      <td>315000.0</td>\n",
       "      <td>15750.0</td>\n",
       "      <td>...</td>\n",
       "      <td>0</td>\n",
       "      <td>0</td>\n",
       "      <td>0</td>\n",
       "      <td>0</td>\n",
       "      <td>0.0</td>\n",
       "      <td>0.0</td>\n",
       "      <td>0.0</td>\n",
       "      <td>1.0</td>\n",
       "      <td>1.0</td>\n",
       "      <td>5.0</td>\n",
       "    </tr>\n",
       "  </tbody>\n",
       "</table>\n",
       "<p>1230 rows × 122 columns</p>\n",
       "</div>"
      ],
      "text/plain": [
       "        SK_ID_CURR  TARGET NAME_CONTRACT_TYPE CODE_GENDER FLAG_OWN_CAR  \\\n",
       "279124      423360       1         Cash loans           M            Y   \n",
       "216116      350411       1         Cash loans           M            Y   \n",
       "133687      255050       1         Cash loans           M            Y   \n",
       "4159        104863       1         Cash loans           M            Y   \n",
       "208602      341779       1         Cash loans           F            Y   \n",
       "...            ...     ...                ...         ...          ...   \n",
       "108677      226053       0         Cash loans           M            Y   \n",
       "258603      399273       0    Revolving loans           M            Y   \n",
       "51880       160079       0         Cash loans           M            Y   \n",
       "282820      427561       0         Cash loans           F            Y   \n",
       "207101      340051       0    Revolving loans           F            Y   \n",
       "\n",
       "       FLAG_OWN_REALTY  CNT_CHILDREN  AMT_INCOME_TOTAL  AMT_CREDIT  \\\n",
       "279124               N             1          157500.0   1125000.0   \n",
       "216116               N             0          112500.0    225000.0   \n",
       "133687               N             1          337500.0    704844.0   \n",
       "4159                 N             0          265500.0    521280.0   \n",
       "208602               Y             1          247500.0    544491.0   \n",
       "...                ...           ...               ...         ...   \n",
       "108677               Y             0          135000.0    679500.0   \n",
       "258603               Y             1          450000.0    180000.0   \n",
       "51880                Y             0          202500.0    750649.5   \n",
       "282820               N             0          270000.0   1800000.0   \n",
       "207101               Y             0          103500.0    315000.0   \n",
       "\n",
       "        AMT_ANNUITY  ...  FLAG_DOCUMENT_18 FLAG_DOCUMENT_19 FLAG_DOCUMENT_20  \\\n",
       "279124      33025.5  ...                 0                0                0   \n",
       "216116      25447.5  ...                 0                0                0   \n",
       "133687      26977.5  ...                 0                0                0   \n",
       "4159        28408.5  ...                 0                0                0   \n",
       "208602      17694.0  ...                 0                0                0   \n",
       "...             ...  ...               ...              ...              ...   \n",
       "108677      36333.0  ...                 0                0                0   \n",
       "258603       9000.0  ...                 0                0                0   \n",
       "51880       53514.0  ...                 0                0                0   \n",
       "282820      62568.0  ...                 0                0                0   \n",
       "207101      15750.0  ...                 0                0                0   \n",
       "\n",
       "       FLAG_DOCUMENT_21 AMT_REQ_CREDIT_BUREAU_HOUR AMT_REQ_CREDIT_BUREAU_DAY  \\\n",
       "279124                0                        0.0                       0.0   \n",
       "216116                0                        0.0                       0.0   \n",
       "133687                0                        0.0                       0.0   \n",
       "4159                  0                        0.0                       0.0   \n",
       "208602                0                        0.0                       0.0   \n",
       "...                 ...                        ...                       ...   \n",
       "108677                0                        0.0                       0.0   \n",
       "258603                0                        0.0                       0.0   \n",
       "51880                 0                        0.0                       0.0   \n",
       "282820                0                        0.0                       0.0   \n",
       "207101                0                        0.0                       0.0   \n",
       "\n",
       "        AMT_REQ_CREDIT_BUREAU_WEEK  AMT_REQ_CREDIT_BUREAU_MON  \\\n",
       "279124                         0.0                        0.0   \n",
       "216116                         1.0                        1.0   \n",
       "133687                         0.0                        0.0   \n",
       "4159                           0.0                        0.0   \n",
       "208602                         0.0                        0.0   \n",
       "...                            ...                        ...   \n",
       "108677                         0.0                        0.0   \n",
       "258603                         0.0                        0.0   \n",
       "51880                          0.0                        0.0   \n",
       "282820                         0.0                        1.0   \n",
       "207101                         0.0                        1.0   \n",
       "\n",
       "        AMT_REQ_CREDIT_BUREAU_QRT  AMT_REQ_CREDIT_BUREAU_YEAR  \n",
       "279124                        0.0                         1.0  \n",
       "216116                        0.0                         1.0  \n",
       "133687                        2.0                         2.0  \n",
       "4159                          0.0                         2.0  \n",
       "208602                        0.0                         2.0  \n",
       "...                           ...                         ...  \n",
       "108677                        0.0                         0.0  \n",
       "258603                        0.0                         1.0  \n",
       "51880                         1.0                         3.0  \n",
       "282820                        0.0                         1.0  \n",
       "207101                        1.0                         5.0  \n",
       "\n",
       "[1230 rows x 122 columns]"
      ]
     },
     "execution_count": 494,
     "metadata": {},
     "output_type": "execute_result"
    }
   ],
   "source": [
    "#Drop rows which contain missing value\n",
    "normalised_home_loan.dropna(axis=0)"
   ]
  },
  {
   "cell_type": "code",
   "execution_count": 499,
   "id": "7ea956ae-508d-45db-ab05-7e6ca5a7fbf2",
   "metadata": {},
   "outputs": [
    {
     "data": {
      "text/plain": [
       "<Axes: ylabel='count'>"
      ]
     },
     "execution_count": 499,
     "metadata": {},
     "output_type": "execute_result"
    },
    {
     "data": {
      "image/png": "[encoded data removed]",
      "text/plain": [
       "<Figure size 640x480 with 1 Axes>"
      ]
     },
     "metadata": {},
     "output_type": "display_data"
    }
   ],
   "source": [
    "#Plot the pie chart of column NAME_CONTRACT_TYPE values [Type of loan contract (e.g., Cash loans, Revolving loans)]\n",
    "normalised_home_loan.NAME_CONTRACT_TYPE.value_counts().plot(kind='pie',autopct=\"%1.1f%%\") \n",
    "\n",
    "# Observation- #high amount of cash loans"
   ]
  },
  {
   "cell_type": "code",
   "execution_count": 502,
   "id": "a9567953-f09b-4290-bf63-bff5fe27a09f",
   "metadata": {},
   "outputs": [
    {
     "data": {
      "text/plain": [
       "<Axes: ylabel='count'>"
      ]
     },
     "execution_count": 502,
     "metadata": {},
     "output_type": "execute_result"
    },
    {
     "data": {
      "image/png": "[encoded data removed]",
      "text/plain": [
       "<Figure size 640x480 with 1 Axes>"
      ]
     },
     "metadata": {},
     "output_type": "display_data"
    }
   ],
   "source": [
    "# CODE_GENDER\tGender of the applicant.\n",
    "normalised_home_loan.CODE_GENDER.value_counts().plot(kind='pie',autopct=\"%1.1f%%\")\n",
    "\n",
    "# Females are more (~roughly equal amount)"
   ]
  },
  {
   "cell_type": "code",
   "execution_count": 505,
   "id": "71f7b09f-3375-43fa-bd25-b2ff06b47925",
   "metadata": {},
   "outputs": [
    {
     "data": {
      "text/plain": [
       "<Axes: ylabel='count'>"
      ]
     },
     "execution_count": 505,
     "metadata": {},
     "output_type": "execute_result"
    },
    {
     "data": {
      "image/png": "[encoded data removed]",
      "text/plain": [
       "<Figure size 640x480 with 1 Axes>"
      ]
     },
     "metadata": {},
     "output_type": "display_data"
    }
   ],
   "source": [
    "#FLAG_OWN_CAR\tWhether the applicant owns a car (Yes/No).\n",
    "normalised_home_loan.FLAG_OWN_CAR.value_counts().plot(kind='pie',autopct=\"%1.1f%%\")"
   ]
  },
  {
   "cell_type": "code",
   "execution_count": 507,
   "id": "c55f7e5c-7bb7-4ac2-9f37-411531a89fd5",
   "metadata": {},
   "outputs": [
    {
     "data": {
      "text/plain": [
       "<Axes: ylabel='count'>"
      ]
     },
     "execution_count": 507,
     "metadata": {},
     "output_type": "execute_result"
    },
    {
     "data": {
      "image/png": "[encoded data removed]",
      "text/plain": [
       "<Figure size 640x480 with 1 Axes>"
      ]
     },
     "metadata": {},
     "output_type": "display_data"
    }
   ],
   "source": [
    "#CNT_CHILDREN\tNumber of children the applicant has.\n",
    "normalised_home_loan.CNT_CHILDREN.value_counts().plot(kind='pie',autopct=\"%1.1f%%\")"
   ]
  },
  {
   "cell_type": "code",
   "execution_count": 508,
   "id": "2a57728e-9c82-40e8-996e-9cdcb987220d",
   "metadata": {},
   "outputs": [
    {
     "data": {
      "image/png": "[encoded data removed]",
      "text/plain": [
       "<Figure size 640x480 with 1 Axes>"
      ]
     },
     "metadata": {},
     "output_type": "display_data"
    }
   ],
   "source": [
    "# AMT_INCOME_TOTAL\tTotal income of the applicant.\n",
    "normalised_home_loan[normalised_home_loan['AMT_INCOME_TOTAL'] < 2000000]['AMT_INCOME_TOTAL'].hist( bins=100)\n",
    "plt.suptitle('Distribution of AMT_INCOME_TOTAL')\n",
    "plt.xlabel('Total Income')\n",
    "plt.ylabel('Count of applicants')\n",
    "plt.show()"
   ]
  },
  {
   "cell_type": "code",
   "execution_count": 509,
   "id": "16d38940-b59a-4195-b22b-a0bbb716afd1",
   "metadata": {},
   "outputs": [
    {
     "data": {
      "text/plain": [
       "TARGET\n",
       "0    64.864865\n",
       "1    35.135135\n",
       "Name: count, dtype: float64"
      ]
     },
     "execution_count": 509,
     "metadata": {},
     "output_type": "execute_result"
    }
   ],
   "source": [
    "(normalised_home_loan[normalised_home_loan['AMT_INCOME_TOTAL']>1000000]['TARGET'].value_counts())/len(normalised_home_loan[normalised_home_loan['AMT_INCOME_TOTAL'] > 1000000])*100"
   ]
  },
  {
   "cell_type": "code",
   "execution_count": 511,
   "id": "0f8d1414-17a3-49e0-b861-d2ed0b76b193",
   "metadata": {},
   "outputs": [
    {
     "name": "stdout",
     "output_type": "stream",
     "text": [
      "TARGET\n",
      "1    57.047872\n",
      "0    42.952128\n",
      "Name: count, dtype: float64\n",
      "TARGET\n",
      "1    81.818182\n",
      "0    18.181818\n",
      "Name: count, dtype: float64\n"
     ]
    }
   ],
   "source": [
    "print((normalised_home_loan[normalised_home_loan['CNT_CHILDREN']>2]['TARGET'].value_counts())/len(normalised_home_loan[normalised_home_loan['CNT_CHILDREN'] > 2])*100)\n",
    "print((normalised_home_loan[normalised_home_loan['CNT_CHILDREN']>5]['TARGET'].value_counts())/len(normalised_home_loan[normalised_home_loan['CNT_CHILDREN'] > 5])*100) \n",
    "\n",
    "#Observation- as number of children is increasing lone defaulters are increasing"
   ]
  },
  {
   "cell_type": "code",
   "execution_count": 515,
   "id": "c6f1f022-933d-41ed-b773-d6572d1e387e",
   "metadata": {},
   "outputs": [
    {
     "name": "stdout",
     "output_type": "stream",
     "text": [
      "TARGET\n",
      "1    51.350064\n",
      "0    48.649936\n",
      "Name: count, dtype: float64\n",
      "TARGET\n",
      "0    52.823962\n",
      "1    47.176038\n",
      "Name: count, dtype: float64\n"
     ]
    }
   ],
   "source": [
    "print((normalised_home_loan[normalised_home_loan['FLAG_OWN_CAR']=='N']['TARGET'].value_counts())/len(normalised_home_loan[normalised_home_loan['FLAG_OWN_CAR'] =='N'])*100)\n",
    "print((normalised_home_loan[normalised_home_loan['FLAG_OWN_CAR']=='Y']['TARGET'].value_counts())/len(normalised_home_loan[normalised_home_loan['FLAG_OWN_CAR'] =='Y'])*100) \n",
    "\n",
    "#Observation- people with own cars are slighlty more likely to repay back the loan "
   ]
  },
  {
   "cell_type": "code",
   "execution_count": 517,
   "id": "1941e9fa-8c4f-45ac-8480-26b2485d7cae",
   "metadata": {},
   "outputs": [
    {
     "name": "stdout",
     "output_type": "stream",
     "text": [
      "TARGET\n",
      "1    56.280372\n",
      "0    43.719628\n",
      "Name: count, dtype: float64\n",
      "TARGET\n",
      "0    53.867691\n",
      "1    46.132309\n",
      "Name: count, dtype: float64\n"
     ]
    }
   ],
   "source": [
    "print((normalised_home_loan[normalised_home_loan['CODE_GENDER']=='M']['TARGET'].value_counts())/len(normalised_home_loan[normalised_home_loan['CODE_GENDER'] =='M'])*100) \n",
    "print((normalised_home_loan[normalised_home_loan['CODE_GENDER']=='F']['TARGET'].value_counts())/len(normalised_home_loan[normalised_home_loan['CODE_GENDER'] =='F'])*100) \n",
    "\n",
    "#Observation- men are more likely to default in payment of loans"
   ]
  },
  {
   "cell_type": "code",
   "execution_count": 519,
   "id": "1310af63-a817-4f64-9d53-91166f87655b",
   "metadata": {},
   "outputs": [
    {
     "name": "stdout",
     "output_type": "stream",
     "text": [
      "TARGET\n",
      "1    50.802923\n",
      "0    49.197077\n",
      "Name: count, dtype: float64\n",
      "TARGET\n",
      "0    59.309995\n",
      "1    40.690005\n",
      "Name: count, dtype: float64\n"
     ]
    }
   ],
   "source": [
    "print((normalised_home_loan[normalised_home_loan['NAME_CONTRACT_TYPE']=='Cash loans']['TARGET'].value_counts())/len(normalised_home_loan[normalised_home_loan['NAME_CONTRACT_TYPE']=='Cash loans'])*100) \n",
    "print((normalised_home_loan[normalised_home_loan['NAME_CONTRACT_TYPE']=='Revolving loans']['TARGET'].value_counts())/len(normalised_home_loan[normalised_home_loan['NAME_CONTRACT_TYPE']=='Revolving loans'])*100) \n",
    "\n",
    "#Observation- cash loans have a higher percent of defaulters"
   ]
  },
  {
   "cell_type": "code",
   "execution_count": null,
   "id": "ace5bfde-fe9b-4d87-bbcf-220b63638012",
   "metadata": {},
   "outputs": [],
   "source": []
  },
  {
   "cell_type": "markdown",
   "id": "bdc5a179-7612-4090-9269-3e7841dbb9fd",
   "metadata": {},
   "source": [
    "### 6. Encode the columns that is required for the model"
   ]
  },
  {
   "cell_type": "code",
   "execution_count": 522,
   "id": "c4249811-9f9e-4eba-bd18-9edb1f63f8d5",
   "metadata": {},
   "outputs": [],
   "source": [
    "# To convert categorical features to such integer codes, we can use the OrdinalEncoder. This estimator transforms each categorical \n",
    "# feature to one new feature of integers (0 to n_categories - 1):\n",
    "ordenc=OrdinalEncoder()"
   ]
  },
  {
   "cell_type": "code",
   "execution_count": 524,
   "id": "789531eb-8b6b-4e47-9374-5336684ae46e",
   "metadata": {},
   "outputs": [
    {
     "name": "stdout",
     "output_type": "stream",
     "text": [
      "       NAME_CONTRACT_TYPE  NAME_CONTRACT_TYPE_CODE\n",
      "207339         Cash loans                      0.0\n",
      "8756           Cash loans                      0.0\n",
      "230344         Cash loans                      0.0\n",
      "178329         Cash loans                      0.0\n",
      "55586          Cash loans                      0.0\n",
      "65695          Cash loans                      0.0\n",
      "263860         Cash loans                      0.0\n",
      "10539          Cash loans                      0.0\n",
      "56254          Cash loans                      0.0\n",
      "12152          Cash loans                      0.0\n",
      "13694          Cash loans                      0.0\n",
      "16621          Cash loans                      0.0\n",
      "256753         Cash loans                      0.0\n",
      "112693         Cash loans                      0.0\n",
      "296306         Cash loans                      0.0\n",
      "34526          Cash loans                      0.0\n",
      "31848          Cash loans                      0.0\n",
      "242007         Cash loans                      0.0\n",
      "48541          Cash loans                      0.0\n",
      "294012         Cash loans                      0.0\n",
      "NAME_CONTRACT_TYPE_CODE\n",
      "0.0    45708\n",
      "1.0     3942\n",
      "Name: count, dtype: int64\n"
     ]
    }
   ],
   "source": [
    "# Apply on NAME_CONTRACT_TYPE_CODE column\n",
    "normalised_home_loan['NAME_CONTRACT_TYPE_CODE']=ordenc.fit_transform(normalised_home_loan[['NAME_CONTRACT_TYPE']]) \n",
    "print(normalised_home_loan[['NAME_CONTRACT_TYPE','NAME_CONTRACT_TYPE_CODE']].head(20))\n",
    "print(normalised_home_loan['NAME_CONTRACT_TYPE_CODE'].value_counts())"
   ]
  },
  {
   "cell_type": "code",
   "execution_count": 526,
   "id": "b7c46e37-df69-4509-9bd7-12738e1fd317",
   "metadata": {},
   "outputs": [
    {
     "name": "stdout",
     "output_type": "stream",
     "text": [
      "       CODE_GENDER  CODE_GENDER_CODE\n",
      "207339           F               0.0\n",
      "8756             M               1.0\n",
      "230344           F               0.0\n",
      "178329           M               1.0\n",
      "55586            M               1.0\n",
      "65695            F               0.0\n",
      "263860           M               1.0\n",
      "10539            M               1.0\n",
      "56254            F               0.0\n",
      "12152            F               0.0\n",
      "13694            F               0.0\n",
      "16621            F               0.0\n",
      "256753           F               0.0\n",
      "112693           M               1.0\n",
      "296306           F               0.0\n",
      "34526            M               1.0\n",
      "31848            M               1.0\n",
      "242007           F               0.0\n",
      "48541            F               0.0\n",
      "294012           M               1.0\n",
      "CODE_GENDER_CODE\n",
      "0.0    30716\n",
      "1.0    18932\n",
      "2.0        2\n",
      "Name: count, dtype: int64\n"
     ]
    }
   ],
   "source": [
    "# Apply on CODE_GENDER_CODE column\n",
    "normalised_home_loan['CODE_GENDER_CODE']=ordenc.fit_transform(normalised_home_loan[['CODE_GENDER']]) \n",
    "print(normalised_home_loan[['CODE_GENDER','CODE_GENDER_CODE']].head(20))\n",
    "print(normalised_home_loan['CODE_GENDER_CODE'].value_counts())"
   ]
  },
  {
   "cell_type": "code",
   "execution_count": 528,
   "id": "50e3672e-5947-45ab-8caa-8713b1f0fce2",
   "metadata": {},
   "outputs": [
    {
     "data": {
      "text/html": [
       "<div>\n",
       "<style scoped>\n",
       "    .dataframe tbody tr th:only-of-type {\n",
       "        vertical-align: middle;\n",
       "    }\n",
       "\n",
       "    .dataframe tbody tr th {\n",
       "        vertical-align: top;\n",
       "    }\n",
       "\n",
       "    .dataframe thead th {\n",
       "        text-align: right;\n",
       "    }\n",
       "</style>\n",
       "<table border=\"1\" class=\"dataframe\">\n",
       "  <thead>\n",
       "    <tr style=\"text-align: right;\">\n",
       "      <th></th>\n",
       "      <th>SK_ID_CURR</th>\n",
       "      <th>TARGET</th>\n",
       "      <th>NAME_CONTRACT_TYPE</th>\n",
       "      <th>CODE_GENDER</th>\n",
       "      <th>FLAG_OWN_CAR</th>\n",
       "      <th>FLAG_OWN_REALTY</th>\n",
       "      <th>CNT_CHILDREN</th>\n",
       "      <th>AMT_INCOME_TOTAL</th>\n",
       "      <th>AMT_CREDIT</th>\n",
       "      <th>AMT_ANNUITY</th>\n",
       "      <th>...</th>\n",
       "      <th>FLAG_DOCUMENT_20</th>\n",
       "      <th>FLAG_DOCUMENT_21</th>\n",
       "      <th>AMT_REQ_CREDIT_BUREAU_HOUR</th>\n",
       "      <th>AMT_REQ_CREDIT_BUREAU_DAY</th>\n",
       "      <th>AMT_REQ_CREDIT_BUREAU_WEEK</th>\n",
       "      <th>AMT_REQ_CREDIT_BUREAU_MON</th>\n",
       "      <th>AMT_REQ_CREDIT_BUREAU_QRT</th>\n",
       "      <th>AMT_REQ_CREDIT_BUREAU_YEAR</th>\n",
       "      <th>NAME_CONTRACT_TYPE_CODE</th>\n",
       "      <th>CODE_GENDER_CODE</th>\n",
       "    </tr>\n",
       "  </thead>\n",
       "  <tbody>\n",
       "    <tr>\n",
       "      <th>189640</th>\n",
       "      <td>319880</td>\n",
       "      <td>0</td>\n",
       "      <td>Revolving loans</td>\n",
       "      <td>XNA</td>\n",
       "      <td>Y</td>\n",
       "      <td>Y</td>\n",
       "      <td>0</td>\n",
       "      <td>247500.0</td>\n",
       "      <td>540000.0</td>\n",
       "      <td>27000.0</td>\n",
       "      <td>...</td>\n",
       "      <td>0</td>\n",
       "      <td>0</td>\n",
       "      <td>0.0</td>\n",
       "      <td>0.0</td>\n",
       "      <td>0.0</td>\n",
       "      <td>0.0</td>\n",
       "      <td>1.0</td>\n",
       "      <td>6.0</td>\n",
       "      <td>1.0</td>\n",
       "      <td>2.0</td>\n",
       "    </tr>\n",
       "    <tr>\n",
       "      <th>83382</th>\n",
       "      <td>196708</td>\n",
       "      <td>0</td>\n",
       "      <td>Revolving loans</td>\n",
       "      <td>XNA</td>\n",
       "      <td>N</td>\n",
       "      <td>Y</td>\n",
       "      <td>1</td>\n",
       "      <td>135000.0</td>\n",
       "      <td>405000.0</td>\n",
       "      <td>20250.0</td>\n",
       "      <td>...</td>\n",
       "      <td>0</td>\n",
       "      <td>0</td>\n",
       "      <td>0.0</td>\n",
       "      <td>0.0</td>\n",
       "      <td>0.0</td>\n",
       "      <td>0.0</td>\n",
       "      <td>0.0</td>\n",
       "      <td>3.0</td>\n",
       "      <td>1.0</td>\n",
       "      <td>2.0</td>\n",
       "    </tr>\n",
       "  </tbody>\n",
       "</table>\n",
       "<p>2 rows × 124 columns</p>\n",
       "</div>"
      ],
      "text/plain": [
       "        SK_ID_CURR  TARGET NAME_CONTRACT_TYPE CODE_GENDER FLAG_OWN_CAR  \\\n",
       "189640      319880       0    Revolving loans         XNA            Y   \n",
       "83382       196708       0    Revolving loans         XNA            N   \n",
       "\n",
       "       FLAG_OWN_REALTY  CNT_CHILDREN  AMT_INCOME_TOTAL  AMT_CREDIT  \\\n",
       "189640               Y             0          247500.0    540000.0   \n",
       "83382                Y             1          135000.0    405000.0   \n",
       "\n",
       "        AMT_ANNUITY  ...  FLAG_DOCUMENT_20 FLAG_DOCUMENT_21  \\\n",
       "189640      27000.0  ...                 0                0   \n",
       "83382       20250.0  ...                 0                0   \n",
       "\n",
       "       AMT_REQ_CREDIT_BUREAU_HOUR AMT_REQ_CREDIT_BUREAU_DAY  \\\n",
       "189640                        0.0                       0.0   \n",
       "83382                         0.0                       0.0   \n",
       "\n",
       "       AMT_REQ_CREDIT_BUREAU_WEEK AMT_REQ_CREDIT_BUREAU_MON  \\\n",
       "189640                        0.0                       0.0   \n",
       "83382                         0.0                       0.0   \n",
       "\n",
       "        AMT_REQ_CREDIT_BUREAU_QRT  AMT_REQ_CREDIT_BUREAU_YEAR  \\\n",
       "189640                        1.0                         6.0   \n",
       "83382                         0.0                         3.0   \n",
       "\n",
       "        NAME_CONTRACT_TYPE_CODE  CODE_GENDER_CODE  \n",
       "189640                      1.0               2.0  \n",
       "83382                       1.0               2.0  \n",
       "\n",
       "[2 rows x 124 columns]"
      ]
     },
     "execution_count": 528,
     "metadata": {},
     "output_type": "execute_result"
    }
   ],
   "source": [
    "# Apart from M/F, there are two values for Gender Code 'XNA'\n",
    "normalised_home_loan.loc[normalised_home_loan['CODE_GENDER_CODE']==2]"
   ]
  },
  {
   "cell_type": "code",
   "execution_count": 530,
   "id": "51250f4a-e174-4e1c-929e-3f6c137eec9d",
   "metadata": {},
   "outputs": [
    {
     "name": "stdout",
     "output_type": "stream",
     "text": [
      "       FLAG_OWN_CAR  FLAG_OWN_CAR_CODE\n",
      "207339            N                0.0\n",
      "8756              Y                1.0\n",
      "230344            N                0.0\n",
      "178329            Y                1.0\n",
      "55586             N                0.0\n",
      "65695             N                0.0\n",
      "263860            Y                1.0\n",
      "10539             Y                1.0\n",
      "56254             Y                1.0\n",
      "12152             N                0.0\n",
      "13694             N                0.0\n",
      "16621             N                0.0\n",
      "256753            Y                1.0\n",
      "112693            N                0.0\n",
      "296306            N                0.0\n",
      "34526             N                0.0\n",
      "31848             N                0.0\n",
      "242007            N                0.0\n",
      "48541             N                0.0\n",
      "294012            N                0.0\n",
      "FLAG_OWN_CAR_CODE\n",
      "0.0    33591\n",
      "1.0    16059\n",
      "Name: count, dtype: int64\n"
     ]
    }
   ],
   "source": [
    "# Apply on FLAG_OWN_CAR_CODE column\n",
    "normalised_home_loan['FLAG_OWN_CAR_CODE']=ordenc.fit_transform(normalised_home_loan[['FLAG_OWN_CAR']]) \n",
    "print(normalised_home_loan[['FLAG_OWN_CAR','FLAG_OWN_CAR_CODE']].head(20))\n",
    "print(normalised_home_loan['FLAG_OWN_CAR_CODE'].value_counts())"
   ]
  },
  {
   "cell_type": "code",
   "execution_count": 532,
   "id": "8ba886c1-b8ce-4aa3-ad18-f4e8f7b60e34",
   "metadata": {},
   "outputs": [
    {
     "name": "stdout",
     "output_type": "stream",
     "text": [
      "        CNT_CHILDREN_CODE  CNT_CHILDREN\n",
      "207339                0.0             0\n",
      "8756                  0.0             0\n",
      "230344                0.0             0\n",
      "178329                0.0             0\n",
      "55586                 0.0             0\n",
      "65695                 0.0             0\n",
      "263860                0.0             0\n",
      "10539                 0.0             0\n",
      "56254                 0.0             0\n",
      "12152                 0.0             0\n",
      "13694                 0.0             0\n",
      "16621                 2.0             2\n",
      "256753                0.0             0\n",
      "112693                0.0             0\n",
      "296306                2.0             2\n",
      "34526                 0.0             0\n",
      "31848                 0.0             0\n",
      "242007                0.0             0\n",
      "48541                 0.0             0\n",
      "294012                0.0             0\n",
      "CNT_CHILDREN_CODE\n",
      "0.0     34073\n",
      "1.0     10381\n",
      "2.0      4444\n",
      "3.0       642\n",
      "4.0        89\n",
      "5.0        10\n",
      "6.0         6\n",
      "8.0         2\n",
      "9.0         1\n",
      "10.0        1\n",
      "7.0         1\n",
      "Name: count, dtype: int64\n"
     ]
    }
   ],
   "source": [
    "# Apply on CNT_CHILDREN_CODE column\n",
    "normalised_home_loan['CNT_CHILDREN_CODE']=ordenc.fit_transform(normalised_home_loan[['CNT_CHILDREN']]) \n",
    "print(normalised_home_loan[['CNT_CHILDREN_CODE','CNT_CHILDREN']].head(20))\n",
    "print(normalised_home_loan['CNT_CHILDREN_CODE'].value_counts())"
   ]
  },
  {
   "cell_type": "code",
   "execution_count": 534,
   "id": "0cf75e56-7cb8-42a8-9b7f-13e8e20d55b7",
   "metadata": {},
   "outputs": [
    {
     "name": "stdout",
     "output_type": "stream",
     "text": [
      "(33265, 5)\n",
      "(16385, 5)\n",
      "(33265,)\n",
      "(16385,)\n"
     ]
    }
   ],
   "source": [
    "#Splitting the dataset into training and testing in the ratio of 80:20 with random state = 45.\n",
    "\n",
    "# After balancing the data - Number of loan repaid payers=  24825 + 24825 = 49650\n",
    "num_samples_total = 49650\n",
    "centers = [(0,0), (5,5)]\n",
    "num_features_for_samples = 2\n",
    "cluster_std = 1\n",
    "normalised_home_loan_features=['SK_ID_CURR','NAME_CONTRACT_TYPE_CODE','CNT_CHILDREN_CODE','FLAG_OWN_CAR_CODE','CODE_GENDER_CODE']\n",
    "y=normalised_home_loan.TARGET \n",
    "X=normalised_home_loan[normalised_home_loan_features]\n",
    "\n",
    "# Generate data\n",
    "inputs, targets = make_blobs(n_samples = num_samples_total, centers = centers, n_features = num_features_for_samples, cluster_std = cluster_std)\n",
    "\n",
    "X_train, X_test , y_train, y_test = train_test_split(X, y, test_size=0.33, random_state=45)\n",
    "print(X_train.shape)\n",
    "print(X_test.shape)\n",
    "print(y_train.shape)\n",
    "print(y_test.shape)"
   ]
  },
  {
   "cell_type": "code",
   "execution_count": 536,
   "id": "154f3408-68e0-455e-89f8-991f134a57aa",
   "metadata": {},
   "outputs": [],
   "source": [
    "clf= RandomForestClassifier()\n",
    "clf=clf.fit(X_train,y_train)\n",
    "predictions = clf.predict(X_test)"
   ]
  },
  {
   "cell_type": "code",
   "execution_count": 537,
   "id": "06e14ba7-0edd-4a28-b41e-8624fae5e22e",
   "metadata": {},
   "outputs": [
    {
     "data": {
      "image/png": "[encoded data removed]",
      "text/plain": [
       "<Figure size 640x480 with 2 Axes>"
      ]
     },
     "metadata": {},
     "output_type": "display_data"
    }
   ],
   "source": [
    "# Generate confusion matrix\n",
    "cm = confusion_matrix(y_test, predictions, labels=clf.classes_)\n",
    "disp = ConfusionMatrixDisplay(confusion_matrix=cm, display_labels=clf.classes_)\n",
    "disp.plot()\n",
    "plt.show()"
   ]
  },
  {
   "cell_type": "code",
   "execution_count": null,
   "id": "bf6a91b4-48ad-4ffe-a66f-342260297c9b",
   "metadata": {},
   "outputs": [],
   "source": []
  },
  {
   "cell_type": "markdown",
   "id": "77d78a9b-6d1b-4f8f-add2-69de5a660fa0",
   "metadata": {},
   "source": [
    "### 7. Calculate Sensitivity as a metric"
   ]
  },
  {
   "cell_type": "code",
   "execution_count": 539,
   "id": "76c6b394-f90a-4485-9bc0-131d87a42623",
   "metadata": {},
   "outputs": [
    {
     "name": "stdout",
     "output_type": "stream",
     "text": [
      "Sensitivity :0  0.502653159671973\n"
     ]
    }
   ],
   "source": [
    "# The recall is the ratio tp / (tp + fn) where tp is the number of true positives and fn the number of false negatives. \n",
    "# The recall is intuitively the ability of the classifier to find all the positive samples.\n",
    "print(f\"Sensitivity :{0} \",recall_score(y_test, predictions)) "
   ]
  },
  {
   "cell_type": "code",
   "execution_count": null,
   "id": "df7dd4b7-174c-478e-aa83-28a7260bc86d",
   "metadata": {},
   "outputs": [],
   "source": []
  },
  {
   "cell_type": "markdown",
   "id": "bdbd52e5-aae5-4e9d-a724-dce534dd6432",
   "metadata": {},
   "source": [
    "### 8. Calculate the area under the receiver operating characteristics curve"
   ]
  },
  {
   "cell_type": "code",
   "execution_count": 541,
   "id": "9636b845-592b-49a0-bd0c-d89aebef8836",
   "metadata": {},
   "outputs": [
    {
     "name": "stdout",
     "output_type": "stream",
     "text": [
      "0.509265539430698\n"
     ]
    }
   ],
   "source": [
    "auc_score = roc_auc_score(y_test, predictions)\n",
    "print(auc_score)"
   ]
  },
  {
   "cell_type": "code",
   "execution_count": 542,
   "id": "09ab048f-63e0-49a4-8d3c-21e768fedb31",
   "metadata": {},
   "outputs": [
    {
     "name": "stdout",
     "output_type": "stream",
     "text": [
      "No Skill: ROC AUC=0.500\n",
      "Logistic: ROC AUC=0.518\n"
     ]
    },
    {
     "data": {
      "image/png": "[encoded data removed]",
      "text/plain": [
       "<Figure size 640x480 with 1 Axes>"
      ]
     },
     "metadata": {},
     "output_type": "display_data"
    }
   ],
   "source": [
    "# roc curve and auc\n",
    "\n",
    "# generate a no skill prediction (majority class)\n",
    "ns_probs = [0 for _ in range(len(y_test))]\n",
    "# predict probabilities\n",
    "lr_probs = clf.predict_proba(X_test)\n",
    "# keep probabilities for the positive outcome only\n",
    "lr_probs = lr_probs[:, 1]\n",
    "\n",
    "# calculate scores\n",
    "ns_auc = roc_auc_score(y_test, ns_probs)\n",
    "lr_auc = roc_auc_score(y_test, lr_probs)\n",
    "# summarize scores\n",
    "print('No Skill: ROC AUC=%.3f' % (ns_auc))\n",
    "print('Logistic: ROC AUC=%.3f' % (lr_auc))\n",
    "\n",
    "# calculate roc curves\n",
    "ns_fpr, ns_tpr, _ = roc_curve(y_test, ns_probs)\n",
    "lr_fpr, lr_tpr, _ = roc_curve(y_test, lr_probs)\n",
    "\n",
    "# plot the roc curve for the model\n",
    "plt.plot(ns_fpr, ns_tpr, linestyle='--', label='No Skill')\n",
    "plt.plot(lr_fpr, lr_tpr, marker='.', label='Logistic')\n",
    "# axis labels\n",
    "plt.xlabel('False Positive Rate')\n",
    "plt.ylabel('True Positive Rate')\n",
    "# show the legend\n",
    "plt.legend()\n",
    "# show the plot\n",
    "plt.show()"
   ]
  },
  {
   "cell_type": "code",
   "execution_count": 563,
   "id": "9ea54f84-8c77-4a6d-a1d4-734522143c83",
   "metadata": {},
   "outputs": [
    {
     "name": "stdout",
     "output_type": "stream",
     "text": [
      "AUC: 0.583\n"
     ]
    },
    {
     "data": {
      "image/png": "[encoded data removed]",
      "text/plain": [
       "<Figure size 800x600 with 1 Axes>"
      ]
     },
     "metadata": {},
     "output_type": "display_data"
    }
   ],
   "source": [
    "# Train a classifier\n",
    "clf = LogisticRegression(max_iter=1000)\n",
    "clf.fit(X_train, y_train)\n",
    "\n",
    "# Predict probabilities\n",
    "y_probas = clf.predict_proba(X_test)[:, 1]  # We want the probability of the positive class\n",
    "\n",
    "# Calculate the ROC curve\n",
    "fpr, tpr, thresholds = roc_curve(y_test, y_probas)\n",
    "\n",
    "# Calculate AUC\n",
    "auc = roc_auc_score(y_test, y_probas)\n",
    "print(f\"AUC: {auc:.3f}\")\n",
    "\n",
    "# Plot the ROC curve\n",
    "plt.figure(figsize=(8, 6))\n",
    "plt.plot(fpr, tpr, color='b', label=f'ROC curve (AUC = {auc:.3f})')\n",
    "plt.plot([0, 1], [0, 1], linestyle='--', color='r', label='No Skill (AUC = 0.5)')\n",
    "\n",
    "# Axis labels and title\n",
    "plt.xlabel('False Positive Rate')\n",
    "plt.ylabel('True Positive Rate')\n",
    "plt.title('ROC Curve')\n",
    "\n",
    "# Show the legend\n",
    "plt.legend(loc='lower right')\n",
    "\n",
    "# Show the plot\n",
    "plt.show()"
   ]
  },
  {
   "cell_type": "code",
   "execution_count": null,
   "id": "bb723a0a-3678-4fc8-b83d-57203e2b5872",
   "metadata": {},
   "outputs": [],
   "source": []
  }
 ],
 "metadata": {
  "kernelspec": {
   "display_name": "Python 3 (ipykernel)",
   "language": "python",
   "name": "python3"
  },
  "language_info": {
   "codemirror_mode": {
    "name": "ipython",
    "version": 3
   },
   "file_extension": ".py",
   "mimetype": "text/x-python",
   "name": "python",
   "nbconvert_exporter": "python",
   "pygments_lexer": "ipython3",
   "version": "3.12.4"
  }
 },
 "nbformat": 4,
 "nbformat_minor": 5
}
